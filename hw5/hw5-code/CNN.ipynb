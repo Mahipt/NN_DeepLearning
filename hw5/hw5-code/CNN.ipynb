{
  "cells": [
    {
      "cell_type": "markdown",
      "metadata": {
        "id": "JYUB0mJwVvZX"
      },
      "source": [
        "# Convolutional neural networks\n",
        "\n",
        "In this notebook, we'll put together our convolutional layers to implement a 3-layer CNN.  Then, we'll ask you to implement a CNN that can achieve > 65% validation error on CIFAR-10.\n",
        "\n",
        "If you have not completed the Spatial BatchNorm Notebook, please see the following description from that notebook:\n",
        "\n",
        "Please copy and paste your prior implemented code from HW #4 to start this assignment.  If you did not correctly implement the layers in HW #4, you may collaborate with a classmate to use their layer implementations from HW #4.  You may also visit TA or Prof OH to correct your implementation.  \n",
        "\n",
        "You'll want to copy and paste from HW #4:\n",
        "    - layers.py for your FC network layers, as well as batchnorm and dropout.\n",
        "    - layer_utils.py for your combined FC network layers.\n",
        "    - optim.py for your optimizers.\n",
        "\n",
        "Be sure to place these in the `nndl/` directory so they're imported correctly.  Note, as announced in class, we will not be releasing our solutions."
      ]
    },
    {
      "cell_type": "code",
      "source": [
        "# Set up colab environment \n",
        "from google.colab import drive\n",
        "drive.mount(\"/content/drive\", force_remount=True)\n",
        "%cd /content/drive/MyDrive/ColabNotebooks/c247/hw5/utils/\n",
        "!python setup.py build_ext --inplace\n",
        "%cd /content/drive/MyDrive/ColabNotebooks/c247/hw5/\n",
        "!pip install cython "
      ],
      "metadata": {
        "colab": {
          "base_uri": "https://localhost:8080/"
        },
        "id": "z0iKd4DxWAZe",
        "outputId": "9a7f131e-5143-4a65-df40-efa988e99a0d"
      },
      "execution_count": 1,
      "outputs": [
        {
          "output_type": "stream",
          "name": "stdout",
          "text": [
            "Mounted at /content/drive\n",
            "/content/drive/MyDrive/ColabNotebooks/c247/hw5/utils\n",
            "running build_ext\n",
            "/content/drive/MyDrive/ColabNotebooks/c247/hw5\n",
            "Requirement already satisfied: cython in /usr/local/lib/python3.7/dist-packages (0.29.27)\n"
          ]
        }
      ]
    },
    {
      "cell_type": "code",
      "execution_count": 23,
      "metadata": {
        "colab": {
          "base_uri": "https://localhost:8080/"
        },
        "id": "RsHT0rR9VvZZ",
        "outputId": "51b8cdc6-7dd5-413b-dcdd-f3d3baedf672"
      },
      "outputs": [
        {
          "output_type": "stream",
          "name": "stdout",
          "text": [
            "The autoreload extension is already loaded. To reload it, use:\n",
            "  %reload_ext autoreload\n"
          ]
        }
      ],
      "source": [
        "# As usual, a bit of setup\n",
        "\n",
        "import numpy as np\n",
        "import matplotlib.pyplot as plt\n",
        "from nndl.cnn import *\n",
        "from utils.data_utils import get_CIFAR10_data\n",
        "from utils.gradient_check import eval_numerical_gradient_array, eval_numerical_gradient\n",
        "from nndl.layers import *\n",
        "from nndl.conv_layers import *\n",
        "from utils.fast_layers import *\n",
        "from utils.solver import Solver\n",
        "\n",
        "%matplotlib inline\n",
        "plt.rcParams['figure.figsize'] = (10.0, 8.0) # set default size of plots\n",
        "plt.rcParams['image.interpolation'] = 'nearest'\n",
        "plt.rcParams['image.cmap'] = 'gray'\n",
        "\n",
        "# for auto-reloading external modules\n",
        "# see http://stackoverflow.com/questions/1907993/autoreload-of-modules-in-ipython\n",
        "%load_ext autoreload\n",
        "%autoreload 2\n",
        "\n",
        "def rel_error(x, y):\n",
        "  \"\"\" returns relative error \"\"\"\n",
        "  return np.max(np.abs(x - y) / (np.maximum(1e-8, np.abs(x) + np.abs(y))))"
      ]
    },
    {
      "cell_type": "code",
      "execution_count": 10,
      "metadata": {
        "colab": {
          "base_uri": "https://localhost:8080/"
        },
        "id": "CeUElBXVVvZa",
        "outputId": "12543bd7-16f7-416e-d37b-6adb410c45ec"
      },
      "outputs": [
        {
          "output_type": "stream",
          "name": "stdout",
          "text": [
            "X_train: (49000, 3, 32, 32) \n",
            "y_train: (49000,) \n",
            "X_val: (1000, 3, 32, 32) \n",
            "y_val: (1000,) \n",
            "X_test: (1000, 3, 32, 32) \n",
            "y_test: (1000,) \n"
          ]
        }
      ],
      "source": [
        "# Load the (preprocessed) CIFAR10 data.\n",
        "\n",
        "data = get_CIFAR10_data()\n",
        "for k in data.keys():\n",
        "  print('{}: {} '.format(k, data[k].shape))"
      ]
    },
    {
      "cell_type": "markdown",
      "metadata": {
        "id": "xYKXTw3GVvZb"
      },
      "source": [
        "## Three layer CNN\n",
        "\n",
        "In this notebook, you will implement a three layer CNN.  The `ThreeLayerConvNet` class is in `nndl/cnn.py`.  You'll need to modify that code for this section, including the initialization, as well as the calculation of the loss and gradients.  You should be able to use the building blocks you have either earlier coded or that we have provided.  Be sure to use the fast layers.\n",
        "\n",
        "The architecture of this CNN will be:\n",
        "\n",
        "conv - relu - 2x2 max pool - affine - relu - affine - softmax\n",
        "\n",
        "We won't use batchnorm yet.  You've also done enough of these to know how to debug; use the cells below.\n",
        "\n",
        "Note: As we are implementing several layers CNN networks. The gradient error can be expected for the `eval_numerical_gradient()` function. If your `W1 max relative error` and `W2 max relative error` are around or below 0.01, they should be acceptable. Other errors should be less than 1e-5. "
      ]
    },
    {
      "cell_type": "code",
      "execution_count": 24,
      "metadata": {
        "colab": {
          "base_uri": "https://localhost:8080/"
        },
        "id": "ZNo-tvIQVvZb",
        "outputId": "dff6403f-6299-47ec-e133-d3f60117c431"
      },
      "outputs": [
        {
          "output_type": "stream",
          "name": "stdout",
          "text": [
            "W1 max relative error: 0.007280406260712562\n",
            "W2 max relative error: 0.01293831932173626\n",
            "W3 max relative error: 0.00041995520570621987\n",
            "b1 max relative error: 0.00011794716000500427\n",
            "b2 max relative error: 5.012889686141085e-07\n",
            "b3 max relative error: 1.1007918750720469e-09\n"
          ]
        }
      ],
      "source": [
        "num_inputs = 2\n",
        "input_dim = (3, 16, 16)\n",
        "reg = 0.0\n",
        "num_classes = 10\n",
        "X = np.random.randn(num_inputs, *input_dim)\n",
        "y = np.random.randint(num_classes, size=num_inputs)\n",
        "\n",
        "model = ThreeLayerConvNet(num_filters=3, filter_size=3,\n",
        "                          input_dim=input_dim, hidden_dim=7,\n",
        "                          dtype=np.float64)\n",
        "loss, grads = model.loss(X, y)\n",
        "for param_name in sorted(grads):\n",
        "    f = lambda _: model.loss(X, y)[0]\n",
        "    param_grad_num = eval_numerical_gradient(f, model.params[param_name], verbose=False, h=1e-6)\n",
        "    e = rel_error(param_grad_num, grads[param_name])\n",
        "    print('{} max relative error: {}'.format(param_name, rel_error(param_grad_num, grads[param_name])))"
      ]
    },
    {
      "cell_type": "markdown",
      "metadata": {
        "id": "2DnPRTMyVvZc"
      },
      "source": [
        "### Overfit small dataset\n",
        "\n",
        "To check your CNN implementation, let's overfit a small dataset."
      ]
    },
    {
      "cell_type": "code",
      "execution_count": 25,
      "metadata": {
        "colab": {
          "base_uri": "https://localhost:8080/"
        },
        "id": "D4y5JBVfVvZd",
        "outputId": "ff615237-db30-46b2-9cab-ccf600774f74"
      },
      "outputs": [
        {
          "output_type": "stream",
          "name": "stdout",
          "text": [
            "(Iteration 1 / 20) loss: 2.324687\n",
            "(Epoch 0 / 10) train acc: 0.210000; val_acc: 0.126000\n",
            "(Iteration 2 / 20) loss: 3.795970\n",
            "(Epoch 1 / 10) train acc: 0.170000; val_acc: 0.078000\n",
            "(Iteration 3 / 20) loss: 3.635452\n",
            "(Iteration 4 / 20) loss: 2.082827\n",
            "(Epoch 2 / 10) train acc: 0.310000; val_acc: 0.126000\n",
            "(Iteration 5 / 20) loss: 2.323559\n",
            "(Iteration 6 / 20) loss: 2.131756\n",
            "(Epoch 3 / 10) train acc: 0.240000; val_acc: 0.114000\n",
            "(Iteration 7 / 20) loss: 1.975807\n",
            "(Iteration 8 / 20) loss: 2.139231\n",
            "(Epoch 4 / 10) train acc: 0.390000; val_acc: 0.184000\n",
            "(Iteration 9 / 20) loss: 1.443878\n",
            "(Iteration 10 / 20) loss: 1.724836\n",
            "(Epoch 5 / 10) train acc: 0.420000; val_acc: 0.170000\n",
            "(Iteration 11 / 20) loss: 1.627335\n",
            "(Iteration 12 / 20) loss: 1.628858\n",
            "(Epoch 6 / 10) train acc: 0.490000; val_acc: 0.158000\n",
            "(Iteration 13 / 20) loss: 1.157200\n",
            "(Iteration 14 / 20) loss: 1.066273\n",
            "(Epoch 7 / 10) train acc: 0.700000; val_acc: 0.207000\n",
            "(Iteration 15 / 20) loss: 1.256919\n",
            "(Iteration 16 / 20) loss: 1.036682\n",
            "(Epoch 8 / 10) train acc: 0.760000; val_acc: 0.210000\n",
            "(Iteration 17 / 20) loss: 0.729080\n",
            "(Iteration 18 / 20) loss: 0.998068\n",
            "(Epoch 9 / 10) train acc: 0.850000; val_acc: 0.220000\n",
            "(Iteration 19 / 20) loss: 0.671618\n",
            "(Iteration 20 / 20) loss: 0.531532\n",
            "(Epoch 10 / 10) train acc: 0.830000; val_acc: 0.207000\n"
          ]
        }
      ],
      "source": [
        "num_train = 100\n",
        "small_data = {\n",
        "  'X_train': data['X_train'][:num_train],\n",
        "  'y_train': data['y_train'][:num_train],\n",
        "  'X_val': data['X_val'],\n",
        "  'y_val': data['y_val'],\n",
        "}\n",
        "\n",
        "model = ThreeLayerConvNet(weight_scale=1e-2)\n",
        "\n",
        "solver = Solver(model, small_data,\n",
        "                num_epochs=10, batch_size=50,\n",
        "                update_rule='adam',\n",
        "                optim_config={\n",
        "                  'learning_rate': 1e-3,\n",
        "                },\n",
        "                verbose=True, print_every=1)\n",
        "solver.train()"
      ]
    },
    {
      "cell_type": "code",
      "execution_count": 26,
      "metadata": {
        "colab": {
          "base_uri": "https://localhost:8080/",
          "height": 497
        },
        "id": "-ujG_MoEVvZd",
        "outputId": "f7eeae19-95ce-4485-e49f-5b816f64e14f"
      },
      "outputs": [
        {
          "output_type": "display_data",
          "data": {
            "image/png": "[encoded data removed]",
            "text/plain": [
              "<Figure size 720x576 with 2 Axes>"
            ]
          },
          "metadata": {
            "needs_background": "light"
          }
        }
      ],
      "source": [
        "plt.subplot(2, 1, 1)\n",
        "plt.plot(solver.loss_history, 'o')\n",
        "plt.xlabel('iteration')\n",
        "plt.ylabel('loss')\n",
        "\n",
        "plt.subplot(2, 1, 2)\n",
        "plt.plot(solver.train_acc_history, '-o')\n",
        "plt.plot(solver.val_acc_history, '-o')\n",
        "plt.legend(['train', 'val'], loc='upper left')\n",
        "plt.xlabel('epoch')\n",
        "plt.ylabel('accuracy')\n",
        "plt.show()"
      ]
    },
    {
      "cell_type": "markdown",
      "metadata": {
        "id": "ioabWHKIVvZe"
      },
      "source": [
        "## Train the network\n",
        "\n",
        "Now we train the 3 layer CNN on CIFAR-10 and assess its accuracy."
      ]
    },
    {
      "cell_type": "code",
      "execution_count": 27,
      "metadata": {
        "scrolled": false,
        "colab": {
          "base_uri": "https://localhost:8080/"
        },
        "id": "IST5cGs2VvZf",
        "outputId": "ffae714e-5963-401f-f6af-5f026442965c"
      },
      "outputs": [
        {
          "output_type": "stream",
          "name": "stdout",
          "text": [
            "(Iteration 1 / 980) loss: 2.304528\n",
            "(Epoch 0 / 1) train acc: 0.145000; val_acc: 0.135000\n",
            "(Iteration 21 / 980) loss: 2.311741\n",
            "(Iteration 41 / 980) loss: 2.070360\n",
            "(Iteration 61 / 980) loss: 1.986592\n",
            "(Iteration 81 / 980) loss: 1.803330\n",
            "(Iteration 101 / 980) loss: 1.818877\n",
            "(Iteration 121 / 980) loss: 1.739333\n",
            "(Iteration 141 / 980) loss: 1.744238\n",
            "(Iteration 161 / 980) loss: 1.962964\n",
            "(Iteration 181 / 980) loss: 1.732486\n",
            "(Iteration 201 / 980) loss: 1.716816\n",
            "(Iteration 221 / 980) loss: 1.883808\n",
            "(Iteration 241 / 980) loss: 1.735115\n",
            "(Iteration 261 / 980) loss: 1.947978\n",
            "(Iteration 281 / 980) loss: 1.955381\n",
            "(Iteration 301 / 980) loss: 1.903696\n",
            "(Iteration 321 / 980) loss: 1.687577\n",
            "(Iteration 341 / 980) loss: 1.738525\n",
            "(Iteration 361 / 980) loss: 1.682932\n",
            "(Iteration 381 / 980) loss: 1.677637\n",
            "(Iteration 401 / 980) loss: 1.552385\n",
            "(Iteration 421 / 980) loss: 1.576432\n",
            "(Iteration 441 / 980) loss: 1.555340\n",
            "(Iteration 461 / 980) loss: 1.739849\n",
            "(Iteration 481 / 980) loss: 1.365655\n",
            "(Iteration 501 / 980) loss: 1.655876\n",
            "(Iteration 521 / 980) loss: 1.717063\n",
            "(Iteration 541 / 980) loss: 1.869588\n",
            "(Iteration 561 / 980) loss: 1.785488\n",
            "(Iteration 581 / 980) loss: 1.584449\n",
            "(Iteration 601 / 980) loss: 1.995587\n",
            "(Iteration 621 / 980) loss: 1.675491\n",
            "(Iteration 641 / 980) loss: 1.744309\n",
            "(Iteration 661 / 980) loss: 1.965037\n",
            "(Iteration 681 / 980) loss: 1.270267\n",
            "(Iteration 701 / 980) loss: 1.518344\n",
            "(Iteration 721 / 980) loss: 1.735223\n",
            "(Iteration 741 / 980) loss: 1.680487\n",
            "(Iteration 761 / 980) loss: 1.545004\n",
            "(Iteration 781 / 980) loss: 1.489194\n",
            "(Iteration 801 / 980) loss: 1.961654\n",
            "(Iteration 821 / 980) loss: 1.421922\n",
            "(Iteration 841 / 980) loss: 1.566839\n",
            "(Iteration 861 / 980) loss: 1.490113\n",
            "(Iteration 881 / 980) loss: 1.746193\n",
            "(Iteration 901 / 980) loss: 1.459247\n",
            "(Iteration 921 / 980) loss: 1.433617\n",
            "(Iteration 941 / 980) loss: 1.460920\n",
            "(Iteration 961 / 980) loss: 1.470920\n",
            "(Epoch 1 / 1) train acc: 0.461000; val_acc: 0.459000\n"
          ]
        }
      ],
      "source": [
        "model = ThreeLayerConvNet(weight_scale=0.001, hidden_dim=500, reg=0.001)\n",
        "\n",
        "solver = Solver(model, data,\n",
        "                num_epochs=1, batch_size=50,\n",
        "                update_rule='adam',\n",
        "                optim_config={\n",
        "                  'learning_rate': 1e-3,\n",
        "                },\n",
        "                verbose=True, print_every=20)\n",
        "solver.train()"
      ]
    },
    {
      "cell_type": "markdown",
      "metadata": {
        "id": "mx-vIbxpVvZf"
      },
      "source": [
        "# Get > 65% validation accuracy on CIFAR-10.\n",
        "\n",
        "In the last part of the assignment, we'll now ask you to train a CNN to get better than 65% validation accuracy on CIFAR-10.\n",
        "\n",
        "### Things you should try:\n",
        "- Filter size: Above we used 7x7; but VGGNet and onwards showed stacks of 3x3 filters are good.  \n",
        "- Number of filters: Above we used 32 filters. Do more or fewer do better?\n",
        "- Batch normalization: Try adding spatial batch normalization after convolution layers and vanilla batch normalization aafter affine layers. Do your networks train faster?\n",
        "- Network architecture: Can a deeper CNN do better?  Consider these architectures:\n",
        "    - [conv-relu-pool]xN - conv - relu - [affine]xM - [softmax or SVM]\n",
        "    - [conv-relu-pool]XN - [affine]XM - [softmax or SVM]\n",
        "    - [conv-relu-conv-relu-pool]xN - [affine]xM - [softmax or SVM]\n",
        "\n",
        "### Tips for training\n",
        "For each network architecture that you try, you should tune the learning rate and regularization strength. When doing this there are a couple important things to keep in mind:\n",
        "\n",
        "- If the parameters are working well, you should see improvement within a few hundred iterations\n",
        "- Remember the coarse-to-fine approach for hyperparameter tuning: start by testing a large range of hyperparameters for just a few training iterations to find the combinations of parameters that are working at all.\n",
        "- Once you have found some sets of parameters that seem to work, search more finely around these parameters. You may need to train for more epochs."
      ]
    },
    {
      "cell_type": "code",
      "execution_count": 29,
      "metadata": {
        "scrolled": false,
        "colab": {
          "base_uri": "https://localhost:8080/"
        },
        "id": "yXT5Qm-HVvZg",
        "outputId": "b7b36d7c-4aa2-4556-9ee0-913d58689e7c"
      },
      "outputs": [
        {
          "output_type": "stream",
          "name": "stdout",
          "text": [
            "(Iteration 1 / 784) loss: 2.308708\n",
            "(Epoch 0 / 8) train acc: 0.102000; val_acc: 0.112000\n",
            "(Iteration 21 / 784) loss: 1.856730\n",
            "(Iteration 41 / 784) loss: 1.545988\n",
            "(Iteration 61 / 784) loss: 1.500893\n",
            "(Iteration 81 / 784) loss: 1.408897\n",
            "(Epoch 1 / 8) train acc: 0.502000; val_acc: 0.534000\n",
            "(Iteration 101 / 784) loss: 1.345610\n",
            "(Iteration 121 / 784) loss: 1.328547\n",
            "(Iteration 141 / 784) loss: 1.223775\n",
            "(Iteration 161 / 784) loss: 1.202493\n",
            "(Iteration 181 / 784) loss: 1.292789\n",
            "(Epoch 2 / 8) train acc: 0.629000; val_acc: 0.605000\n",
            "(Iteration 201 / 784) loss: 1.151572\n",
            "(Iteration 221 / 784) loss: 1.043275\n",
            "(Iteration 241 / 784) loss: 1.195338\n",
            "(Iteration 261 / 784) loss: 1.032125\n",
            "(Iteration 281 / 784) loss: 1.060847\n",
            "(Epoch 3 / 8) train acc: 0.684000; val_acc: 0.638000\n",
            "(Iteration 301 / 784) loss: 1.033371\n",
            "(Iteration 321 / 784) loss: 0.999842\n",
            "(Iteration 341 / 784) loss: 0.978206\n",
            "(Iteration 361 / 784) loss: 0.975558\n",
            "(Iteration 381 / 784) loss: 1.047168\n",
            "(Epoch 4 / 8) train acc: 0.724000; val_acc: 0.625000\n",
            "(Iteration 401 / 784) loss: 0.957216\n",
            "(Iteration 421 / 784) loss: 1.040964\n",
            "(Iteration 441 / 784) loss: 0.821839\n",
            "(Iteration 461 / 784) loss: 0.922419\n",
            "(Iteration 481 / 784) loss: 0.849229\n",
            "(Epoch 5 / 8) train acc: 0.781000; val_acc: 0.640000\n",
            "(Iteration 501 / 784) loss: 0.868364\n",
            "(Iteration 521 / 784) loss: 0.806076\n",
            "(Iteration 541 / 784) loss: 0.931019\n",
            "(Iteration 561 / 784) loss: 0.856839\n",
            "(Iteration 581 / 784) loss: 0.791830\n",
            "(Epoch 6 / 8) train acc: 0.782000; val_acc: 0.658000\n",
            "(Iteration 601 / 784) loss: 0.815127\n",
            "(Iteration 621 / 784) loss: 0.767451\n",
            "(Iteration 641 / 784) loss: 0.714365\n",
            "(Iteration 661 / 784) loss: 0.733136\n",
            "(Iteration 681 / 784) loss: 0.692173\n",
            "(Epoch 7 / 8) train acc: 0.817000; val_acc: 0.648000\n",
            "(Iteration 701 / 784) loss: 0.724226\n",
            "(Iteration 721 / 784) loss: 0.679684\n",
            "(Iteration 741 / 784) loss: 0.713524\n",
            "(Iteration 761 / 784) loss: 0.727969\n",
            "(Iteration 781 / 784) loss: 0.611547\n",
            "(Epoch 8 / 8) train acc: 0.818000; val_acc: 0.655000\n"
          ]
        }
      ],
      "source": [
        "# ================================================================ #\n",
        "# YOUR CODE HERE:\n",
        "#   Implement a CNN to achieve greater than 65% validation accuracy\n",
        "#   on CIFAR-10.\n",
        "# ================================================================ #\n",
        "\n",
        "# Using 3 X 3 filter as the filter \n",
        "# Doubling the number of the filter \n",
        "model = ThreeLayerConvNet(num_filters=64,\n",
        "                          weight_scale=0.001, \n",
        "                          hidden_dim=500, \n",
        "                          reg=0.0015,\n",
        "                          filter_size=3)\n",
        "\n",
        "# using adam as the optimization methods \n",
        "# \n",
        "solver = Solver(model, \n",
        "                data,\n",
        "                num_epochs=8, \n",
        "                batch_size=500,\n",
        "                update_rule='adam',\n",
        "                optim_config={\n",
        "                  'learning_rate': 1e-3,\n",
        "                },\n",
        "                lr_decay = 0.9,\n",
        "                verbose=True, print_every=20)\n",
        "solver.train()\n",
        "\n",
        "# ================================================================ #\n",
        "# END YOUR CODE HERE\n",
        "# ================================================================ #\n"
      ]
    },
    {
      "cell_type": "code",
      "execution_count": null,
      "metadata": {
        "id": "aSNKRVRSVvZg"
      },
      "outputs": [],
      "source": [
        ""
      ]
    },
    {
      "cell_type": "markdown",
      "source": [
        "CNN.py Code "
      ],
      "metadata": {
        "id": "yResxrAlwp46"
      }
    },
    {
      "cell_type": "code",
      "source": [
        "import numpy as np\n",
        "\n",
        "from nndl.layers import *\n",
        "from nndl.conv_layers import *\n",
        "from utils.fast_layers import *\n",
        "from nndl.layer_utils import *\n",
        "from nndl.conv_layer_utils import *\n",
        "\n",
        "import pdb\n",
        "\n",
        "\"\"\" \n",
        "This code was originally written for CS 231n at Stanford University\n",
        "(cs231n.stanford.edu).  It has been modified in various areas for use in the\n",
        "ECE 239AS class at UCLA.  This includes the descriptions of what code to\n",
        "implement as well as some slight potential changes in variable names to be\n",
        "consistent with class nomenclature.  We thank Justin Johnson & Serena Yeung for\n",
        "permission to use this code.  To see the original version, please visit\n",
        "cs231n.stanford.edu.  \n",
        "\"\"\"\n",
        "\n",
        "class ThreeLayerConvNet(object):\n",
        "  \"\"\"\n",
        "  A three-layer convolutional network with the following architecture:\n",
        "  \n",
        "  conv - relu - 2x2 max pool - affine - relu - affine - softmax\n",
        "  \n",
        "  The network operates on minibatches of data that have shape (N, C, H, W)\n",
        "  consisting of N images, each with height H and width W and with C input\n",
        "  channels.\n",
        "  \"\"\"\n",
        "  \n",
        "  def __init__(self, input_dim=(3, 32, 32), num_filters=32, filter_size=7,\n",
        "               hidden_dim=100, num_classes=10, weight_scale=1e-3, reg=0.0,\n",
        "               dtype=np.float32, use_batchnorm=False):\n",
        "    \"\"\"\n",
        "    Initialize a new network.\n",
        "    \n",
        "    Inputs:\n",
        "    - input_dim: Tuple (C, H, W) giving size of input data\n",
        "    - num_filters: Number of filters to use in the convolutional layer\n",
        "    - filter_size: Size of filters to use in the convolutional layer\n",
        "    - hidden_dim: Number of units to use in the fully-connected hidden layer\n",
        "    - num_classes: Number of scores to produce from the final affine layer.\n",
        "    - weight_scale: Scalar giving standard deviation for random initialization\n",
        "      of weights.\n",
        "    - reg: Scalar giving L2 regularization strength\n",
        "    - dtype: numpy datatype to use for computation.\n",
        "    \"\"\"\n",
        "    self.use_batchnorm = use_batchnorm\n",
        "    self.params = {}\n",
        "    self.reg = reg\n",
        "    self.dtype = dtype\n",
        "\n",
        "    \n",
        "    # ================================================================ #\n",
        "    # YOUR CODE HERE:\n",
        "    #   Initialize the weights and biases of a three layer CNN. To initialize:\n",
        "    #     - the biases should be initialized to zeros.\n",
        "    #     - the weights should be initialized to a matrix with entries\n",
        "    #         drawn from a Gaussian distribution with zero mean and \n",
        "    #         standard deviation given by weight_scale.\n",
        "    # ================================================================ #\n",
        "\n",
        "    C, H, W = input_dim\n",
        "    pool_height = (H - 2) // 2 + 1 \n",
        "    pool_width = (W - 2) // 2 + 1\n",
        "    \n",
        "    self.params['W1'] = np.random.normal(0, weight_scale, [num_filters, C, filter_size, filter_size])\n",
        "    self.params['b1'] = np.zeros(num_filters)\n",
        "    \n",
        "    self.params['W2'] = np.random.normal(0, weight_scale, [pool_height * pool_width * num_filters, hidden_dim])\n",
        "    self.params['b2'] = np.zeros(hidden_dim)\n",
        "    \n",
        "    self.params['W3'] = np.random.normal(0, weight_scale, [hidden_dim, num_classes])\n",
        "    self.params['b3'] = np.zeros(num_classes)\n",
        "\n",
        "    # ================================================================ #\n",
        "    # END YOUR CODE HERE\n",
        "    # ================================================================ #\n",
        "\n",
        "    for k, v in self.params.items():\n",
        "      self.params[k] = v.astype(dtype)\n",
        "     \n",
        " \n",
        "  def loss(self, X, y=None):\n",
        "    \"\"\"\n",
        "    Evaluate loss and gradient for the three-layer convolutional network.\n",
        "    \n",
        "    Input / output: Same API as TwoLayerNet in fc_net.py.\n",
        "    \"\"\"\n",
        "    W1, b1 = self.params['W1'], self.params['b1']\n",
        "    W2, b2 = self.params['W2'], self.params['b2']\n",
        "    W3, b3 = self.params['W3'], self.params['b3']\n",
        "    \n",
        "    # pass conv_param to the forward pass for the convolutional layer\n",
        "    filter_size = W1.shape[2]\n",
        "    conv_param = {'stride': 1, 'pad': (filter_size - 1) / 2}\n",
        "\n",
        "    # pass pool_param to the forward pass for the max-pooling layer\n",
        "    pool_param = {'pool_height': 2, 'pool_width': 2, 'stride': 2}\n",
        "\n",
        "    scores = None\n",
        "    \n",
        "    # ================================================================ #\n",
        "    # YOUR CODE HERE:\n",
        "    #   Implement the forward pass of the three layer CNN.  Store the output\n",
        "    #   scores as the variable \"scores\".\n",
        "    # ================================================================ #\n",
        "   \n",
        "    out, cache_conv_relu_pool = conv_relu_pool_forward(X, W1, b1, conv_param, pool_param)\n",
        "    \n",
        "    out_shape = out.shape\n",
        "    out = out.reshape(out.shape[0], -1)\n",
        "    \n",
        "    out, cache_affine_relu = affine_relu_forward(out, W2, b2)\n",
        "    \n",
        "    scores, cache_affine = affine_forward(out, W3, b3)\n",
        "\n",
        "    # ================================================================ #\n",
        "    # END YOUR CODE HERE\n",
        "    # ================================================================ #\n",
        "\n",
        "    if y is None:\n",
        "      return scores\n",
        "    \n",
        "    loss, grads = 0, {}\n",
        "    # ================================================================ #\n",
        "    # YOUR CODE HERE:\n",
        "    #   Implement the backward pass of the three layer CNN.  Store the grads\n",
        "    #   in the grads dictionary, exactly as before (i.e., the gradient of \n",
        "    #   self.params[k] will be grads[k]).  Store the loss as \"loss\", and\n",
        "    #   don't forget to add regularization on ALL weight matrices.\n",
        "    # ================================================================ #\n",
        "\n",
        "    loss_softmax, dout = softmax_loss(scores, y)\n",
        "    loss_regularization = self.reg * 0.5 * (np.sum(self.params['W1']**2) + np.sum(self.params['W2']**2) + np.sum(self.params['W3']**2))\n",
        "    loss = loss_softmax + loss_regularization\n",
        "    \n",
        "    dout, grads['W3'], grads['b3'] = affine_backward(dout, cache_affine)                                                          \n",
        "    dout, grads['W2'], grads['b2'] = affine_relu_backward(dout, cache_affine_relu)\n",
        "    dout = dout.reshape(out_shape)\n",
        "    dout, grads['W1'], grads['b1'] = conv_relu_pool_backward(dout, cache_conv_relu_pool)\n",
        "                                                                                           \n",
        "    grads['W3'] += self.reg * self.params['W3']\n",
        "    grads['W2'] += self.reg * self.params['W2']                                                                            \n",
        "    grads['W1'] += self.reg * self.params['W1']\n",
        "                                                                                           \n",
        "    # ================================================================ #\n",
        "    # END YOUR CODE HERE\n",
        "    # ================================================================ #\n",
        "\n",
        "    return loss, grads\n",
        "  \n",
        "  \n",
        "pass"
      ],
      "metadata": {
        "id": "ZV_3K5LXwr5n"
      },
      "execution_count": null,
      "outputs": []
    }
  ],
  "metadata": {
    "kernelspec": {
      "display_name": "Python 3 (ipykernel)",
      "language": "python",
      "name": "python3"
    },
    "language_info": {
      "codemirror_mode": {
        "name": "ipython",
        "version": 3
      },
      "file_extension": ".py",
      "mimetype": "text/x-python",
      "name": "python",
      "nbconvert_exporter": "python",
      "pygments_lexer": "ipython3",
      "version": "3.9.9"
    },
    "pycharm": {
      "stem_cell": {
        "cell_type": "raw",
        "metadata": {
          "collapsed": false
        },
        "source": []
      }
    },
    "colab": {
      "name": "CNN.ipynb",
      "provenance": [],
      "collapsed_sections": []
    }
  },
  "nbformat": 4,
  "nbformat_minor": 0
}