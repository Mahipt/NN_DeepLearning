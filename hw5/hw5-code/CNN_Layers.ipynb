{
  "cells": [
    {
      "cell_type": "markdown",
      "metadata": {
        "id": "URm2V1RH_AZi"
      },
      "source": [
        "## Convolutional neural network layers\n",
        "\n",
        "In this notebook, we will build the convolutional neural network layers.  This will be followed by a spatial batchnorm, and then in the final notebook of this assignment, we will train a CNN to further improve the validation accuracy on CIFAR-10."
      ]
    },
    {
      "cell_type": "code",
      "source": [
        "# Set up colab environment \n",
        "from google.colab import drive\n",
        "drive.mount(\"/content/drive\", force_remount=True)"
      ],
      "metadata": {
        "colab": {
          "base_uri": "https://localhost:8080/"
        },
        "id": "ECYXhUvz_GI8",
        "outputId": "7f355767-cd88-4ae0-d077-684157693b9e"
      },
      "execution_count": null,
      "outputs": [
        {
          "output_type": "stream",
          "name": "stdout",
          "text": [
            "Mounted at /content/drive\n"
          ]
        }
      ]
    },
    {
      "cell_type": "code",
      "source": [
        "# Install required dependencies \n",
        "%cd \n",
        "%cd /content/drive/\n",
        "%cd /content/drive/MyDrive/ColabNotebooks/c247/hw5/utils/ \n"
      ],
      "metadata": {
        "colab": {
          "base_uri": "https://localhost:8080/"
        },
        "id": "lXdjnIhp_JxV",
        "outputId": "52646eb2-caac-43c3-96f5-8e0a679155a9"
      },
      "execution_count": null,
      "outputs": [
        {
          "output_type": "stream",
          "name": "stdout",
          "text": [
            "/root\n",
            "/content/drive\n",
            "/content/drive/MyDrive/ColabNotebooks/c247/hw5/utils\n"
          ]
        }
      ]
    },
    {
      "cell_type": "code",
      "source": [
        "%cd /content/drive/MyDrive/ColabNotebooks/c247/hw5/utils/\n",
        "!python setup.py build_ext --inplace\n",
        "%cd /content/drive/MyDrive/ColabNotebooks/c247/hw5/\n",
        "\n",
        "#!pip install cython "
      ],
      "metadata": {
        "colab": {
          "base_uri": "https://localhost:8080/"
        },
        "id": "Sz9n4ZewAdEr",
        "outputId": "09c18c24-2e86-4bd1-83c8-fbca910b4940"
      },
      "execution_count": null,
      "outputs": [
        {
          "output_type": "stream",
          "name": "stdout",
          "text": [
            "/content/drive/MyDrive/ColabNotebooks/c247/hw5/utils\n",
            "running build_ext\n",
            "building 'im2col_cython' extension\n",
            "x86_64-linux-gnu-gcc -pthread -Wno-unused-result -Wsign-compare -DNDEBUG -g -fwrapv -O2 -Wall -g -fdebug-prefix-map=/build/python3.7-pX47U3/python3.7-3.7.12=. -fstack-protector-strong -Wformat -Werror=format-security -g -fdebug-prefix-map=/build/python3.7-pX47U3/python3.7-3.7.12=. -fstack-protector-strong -Wformat -Werror=format-security -Wdate-time -D_FORTIFY_SOURCE=2 -fPIC -I/usr/local/lib/python3.7/dist-packages/numpy/core/include -I/usr/include/python3.7m -c im2col_cython.c -o build/temp.linux-x86_64-3.7/im2col_cython.o\n",
            "In file included from \u001b[01m\u001b[K/usr/local/lib/python3.7/dist-packages/numpy/core/include/numpy/ndarraytypes.h:1969:0\u001b[m\u001b[K,\n",
            "                 from \u001b[01m\u001b[K/usr/local/lib/python3.7/dist-packages/numpy/core/include/numpy/ndarrayobject.h:12\u001b[m\u001b[K,\n",
            "                 from \u001b[01m\u001b[K/usr/local/lib/python3.7/dist-packages/numpy/core/include/numpy/arrayobject.h:4\u001b[m\u001b[K,\n",
            "                 from \u001b[01m\u001b[Kim2col_cython.c:703\u001b[m\u001b[K:\n",
            "\u001b[01m\u001b[K/usr/local/lib/python3.7/dist-packages/numpy/core/include/numpy/npy_1_7_deprecated_api.h:17:2:\u001b[m\u001b[K \u001b[01;35m\u001b[Kwarning: \u001b[m\u001b[K#warning \"Using deprecated NumPy API, disable it with \" \"#define NPY_NO_DEPRECATED_API NPY_1_7_API_VERSION\" [\u001b[01;35m\u001b[K-Wcpp\u001b[m\u001b[K]\n",
            " #\u001b[01;35m\u001b[Kwarning\u001b[m\u001b[K \"Using deprecated NumPy API, disable it with \" \\\n",
            "  \u001b[01;35m\u001b[K^~~~~~~\u001b[m\u001b[K\n",
            "x86_64-linux-gnu-gcc -pthread -shared -Wl,-O1 -Wl,-Bsymbolic-functions -Wl,-Bsymbolic-functions -Wl,-z,relro -Wl,-Bsymbolic-functions -Wl,-z,relro -g -fdebug-prefix-map=/build/python3.7-pX47U3/python3.7-3.7.12=. -fstack-protector-strong -Wformat -Werror=format-security -Wdate-time -D_FORTIFY_SOURCE=2 build/temp.linux-x86_64-3.7/im2col_cython.o -o /content/drive/MyDrive/ColabNotebooks/c247/hw5/utils/im2col_cython.cpython-37m-x86_64-linux-gnu.so\n",
            "/content/drive/MyDrive/ColabNotebooks/c247/hw5\n"
          ]
        }
      ]
    },
    {
      "cell_type": "code",
      "execution_count": null,
      "metadata": {
        "pycharm": {
          "is_executing": true
        },
        "id": "IaF3r8Z9_AZm",
        "colab": {
          "base_uri": "https://localhost:8080/"
        },
        "outputId": "95014d2b-f7ad-4e11-8c40-f0e2f9f28b31"
      },
      "outputs": [
        {
          "output_type": "stream",
          "name": "stdout",
          "text": [
            "The autoreload extension is already loaded. To reload it, use:\n",
            "  %reload_ext autoreload\n"
          ]
        }
      ],
      "source": [
        "## Import and setup\n",
        "\n",
        "import time\n",
        "\n",
        "import numpy as np\n",
        "import matplotlib.pyplot as plt\n",
        "from nndl.conv_layers import *\n",
        "from utils.data_utils import get_CIFAR10_data\n",
        "from utils.gradient_check import eval_numerical_gradient, eval_numerical_gradient_array\n",
        "from utils.solver import Solver\n",
        "\n",
        "%matplotlib inline\n",
        "plt.rcParams['figure.figsize'] = (10.0, 8.0) # set default size of plots\n",
        "plt.rcParams['image.interpolation'] = 'nearest'\n",
        "plt.rcParams['image.cmap'] = 'gray'\n",
        "\n",
        "# for auto-reloading external modules\n",
        "# see http://stackoverflow.com/questions/1907993/autoreload-of-modules-in-ipython\n",
        "%load_ext autoreload\n",
        "%autoreload 2\n",
        "\n",
        "def rel_error(x, y):\n",
        "  \"\"\" returns relative error \"\"\"\n",
        "  return np.max(np.abs(x - y) / (np.maximum(1e-8, np.abs(x) + np.abs(y))))"
      ]
    },
    {
      "cell_type": "markdown",
      "metadata": {
        "id": "NwLtVL0p_AZn"
      },
      "source": [
        "## Implementing CNN layers\n",
        "\n",
        "Just as we implemented modular layers for fully connected networks, batch normalization, and dropout, we'll want to implement modular layers for convolutional neural networks.  These layers are in `nndl/conv_layers.py`."
      ]
    },
    {
      "cell_type": "markdown",
      "metadata": {
        "id": "gP0e1SkN_AZn"
      },
      "source": [
        "### Convolutional forward pass\n",
        "\n",
        "Begin by implementing a naive version of the forward pass of the CNN that uses `for` loops.  This function is `conv_forward_naive` in `nndl/conv_layers.py`.  Don't worry about efficiency of implementation.  Later on, we provide a fast implementation of these layers.  This version ought to test your understanding of convolution.  In our implementation, there is a triple `for` loop.  \n",
        "\n",
        "After you implement `conv_forward_naive`, test your implementation by running the cell below."
      ]
    },
    {
      "cell_type": "code",
      "execution_count": null,
      "metadata": {
        "scrolled": true,
        "id": "Au8hhBgT_AZo",
        "colab": {
          "base_uri": "https://localhost:8080/"
        },
        "outputId": "883e520b-b2d0-420e-ef09-c7159483feb1"
      },
      "outputs": [
        {
          "output_type": "stream",
          "name": "stdout",
          "text": [
            "Testing conv_forward_naive\n",
            "difference:  2.2121476417505994e-08\n"
          ]
        }
      ],
      "source": [
        "x_shape = (2, 3, 4, 4)\n",
        "w_shape = (3, 3, 4, 4)\n",
        "x = np.linspace(-0.1, 0.5, num=np.prod(x_shape)).reshape(x_shape)\n",
        "w = np.linspace(-0.2, 0.3, num=np.prod(w_shape)).reshape(w_shape)\n",
        "b = np.linspace(-0.1, 0.2, num=3)\n",
        "\n",
        "conv_param = {'stride': 2, 'pad': 1}\n",
        "out, _ = conv_forward_naive(x, w, b, conv_param)\n",
        "correct_out = np.array([[[[-0.08759809, -0.10987781],\n",
        "                           [-0.18387192, -0.2109216 ]],\n",
        "                          [[ 0.21027089,  0.21661097],\n",
        "                           [ 0.22847626,  0.23004637]],\n",
        "                          [[ 0.50813986,  0.54309974],\n",
        "                           [ 0.64082444,  0.67101435]]],\n",
        "                         [[[-0.98053589, -1.03143541],\n",
        "                           [-1.19128892, -1.24695841]],\n",
        "                          [[ 0.69108355,  0.66880383],\n",
        "                           [ 0.59480972,  0.56776003]],\n",
        "                          [[ 2.36270298,  2.36904306],\n",
        "                           [ 2.38090835,  2.38247847]]]])\n",
        "\n",
        "# Compare your output to ours; difference should be around 1e-8\n",
        "print('Testing conv_forward_naive')\n",
        "print('difference: ', rel_error(out, correct_out))"
      ]
    },
    {
      "cell_type": "markdown",
      "metadata": {
        "id": "fK_7xq3z_AZp"
      },
      "source": [
        "### Convolutional backward pass\n",
        "\n",
        "Now, implement a naive version of the backward pass of the CNN.  The function is `conv_backward_naive` in `nndl/conv_layers.py`.  Don't worry about efficiency of implementation.  Later on, we provide a fast implementation of these layers.  This version ought to test your understanding of convolution.  In our implementation, there is a quadruple `for` loop.  \n",
        "\n",
        "After you implement `conv_backward_naive`, test your implementation by running the cell below."
      ]
    },
    {
      "cell_type": "code",
      "execution_count": null,
      "metadata": {
        "id": "RtMg5nt7_AZp",
        "colab": {
          "base_uri": "https://localhost:8080/"
        },
        "outputId": "21ad5b09-fc2d-4028-eb63-1753b5ce4d9e"
      },
      "outputs": [
        {
          "output_type": "stream",
          "name": "stdout",
          "text": [
            "Testing conv_backward_naive function\n",
            "dx error:  1.0\n",
            "dw error:  2.2926300729676095e-10\n",
            "db error:  3.497609364593541e-11\n"
          ]
        }
      ],
      "source": [
        "x = np.random.randn(4, 3, 5, 5)\n",
        "w = np.random.randn(2, 3, 3, 3)\n",
        "b = np.random.randn(2,)\n",
        "dout = np.random.randn(4, 2, 5, 5)\n",
        "conv_param = {'stride': 1, 'pad': 1}\n",
        "\n",
        "out, cache = conv_forward_naive(x,w,b,conv_param)\n",
        "\n",
        "dx_num = eval_numerical_gradient_array(lambda x: conv_forward_naive(x, w, b, conv_param)[0], x, dout)\n",
        "dw_num = eval_numerical_gradient_array(lambda w: conv_forward_naive(x, w, b, conv_param)[0], w, dout)\n",
        "db_num = eval_numerical_gradient_array(lambda b: conv_forward_naive(x, w, b, conv_param)[0], b, dout)\n",
        "\n",
        "out, cache = conv_forward_naive(x, w, b, conv_param)\n",
        "dx, dw, db = conv_backward_naive(dout, cache)\n",
        "\n",
        "# Your errors should be around 1e-9'\n",
        "print('Testing conv_backward_naive function')\n",
        "print('dx error: ', rel_error(dx, dx_num))\n",
        "print('dw error: ', rel_error(dw, dw_num))\n",
        "print('db error: ', rel_error(db, db_num))"
      ]
    },
    {
      "cell_type": "markdown",
      "metadata": {
        "id": "rtcPDDxk_AZq"
      },
      "source": [
        "### Max pool forward pass\n",
        "\n",
        "In this section, we will implement the forward pass of the max pool.  The function is `max_pool_forward_naive` in `nndl/conv_layers.py`.  Do not worry about the efficiency of implementation.\n",
        "\n",
        "After you implement `max_pool_forward_naive`, test your implementation by running the cell below."
      ]
    },
    {
      "cell_type": "code",
      "execution_count": null,
      "metadata": {
        "id": "3LqeHAkx_AZq",
        "colab": {
          "base_uri": "https://localhost:8080/"
        },
        "outputId": "0e1133e9-cf52-46e3-8f92-fcf7e5e3ab06"
      },
      "outputs": [
        {
          "output_type": "stream",
          "name": "stdout",
          "text": [
            "Testing max_pool_forward_naive function:\n",
            "difference:  4.1666665157267834e-08\n"
          ]
        }
      ],
      "source": [
        "x_shape = (2, 3, 4, 4)\n",
        "x = np.linspace(-0.3, 0.4, num=np.prod(x_shape)).reshape(x_shape)\n",
        "pool_param = {'pool_width': 2, 'pool_height': 2, 'stride': 2}\n",
        "\n",
        "out, _ = max_pool_forward_naive(x, pool_param)\n",
        "\n",
        "correct_out = np.array([[[[-0.26315789, -0.24842105],\n",
        "                          [-0.20421053, -0.18947368]],\n",
        "                         [[-0.14526316, -0.13052632],\n",
        "                          [-0.08631579, -0.07157895]],\n",
        "                         [[-0.02736842, -0.01263158],\n",
        "                          [ 0.03157895,  0.04631579]]],\n",
        "                        [[[ 0.09052632,  0.10526316],\n",
        "                          [ 0.14947368,  0.16421053]],\n",
        "                         [[ 0.20842105,  0.22315789],\n",
        "                          [ 0.26736842,  0.28210526]],\n",
        "                         [[ 0.32631579,  0.34105263],\n",
        "                          [ 0.38526316,  0.4       ]]]])\n",
        "\n",
        "# Compare your output with ours. Difference should be around 1e-8.\n",
        "print('Testing max_pool_forward_naive function:')\n",
        "print('difference: ', rel_error(out, correct_out))"
      ]
    },
    {
      "cell_type": "markdown",
      "metadata": {
        "id": "mHqoW1-R_AZr"
      },
      "source": [
        "### Max pool backward pass \n",
        "\n",
        "In this section, you will implement the backward pass of the max pool.  The function is `max_pool_backward_naive` in `nndl/conv_layers.py`.  Do not worry about the efficiency of implementation.\n",
        "\n",
        "After you implement `max_pool_backward_naive`, test your implementation by running the cell below."
      ]
    },
    {
      "cell_type": "code",
      "execution_count": null,
      "metadata": {
        "id": "EEyPB4zL_AZr",
        "colab": {
          "base_uri": "https://localhost:8080/"
        },
        "outputId": "d423ebf6-a728-4944-f313-e45e4f59c408"
      },
      "outputs": [
        {
          "output_type": "stream",
          "name": "stdout",
          "text": [
            "Testing max_pool_backward_naive function:\n",
            "dx error:  3.2756359980995607e-12\n"
          ]
        }
      ],
      "source": [
        "x = np.random.randn(3, 2, 8, 8)\n",
        "dout = np.random.randn(3, 2, 4, 4)\n",
        "pool_param = {'pool_height': 2, 'pool_width': 2, 'stride': 2}\n",
        "\n",
        "dx_num = eval_numerical_gradient_array(lambda x: max_pool_forward_naive(x, pool_param)[0], x, dout)\n",
        "\n",
        "out, cache = max_pool_forward_naive(x, pool_param)\n",
        "dx = max_pool_backward_naive(dout, cache)\n",
        "\n",
        "# Your error should be around 1e-12\n",
        "print('Testing max_pool_backward_naive function:')\n",
        "print('dx error: ', rel_error(dx, dx_num))"
      ]
    },
    {
      "cell_type": "markdown",
      "metadata": {
        "id": "HNlBvunf_AZs"
      },
      "source": [
        "## Fast implementation of the CNN layers\n",
        "\n",
        "Implementing fast versions of the CNN layers can be difficult.  We will provide you with the fast layers implemented by utils.  They are provided in `utils/fast_layers.py`.\n",
        "\n",
        "The fast convolution implementation depends on a Cython extension ('pip install Cython' to your virtual environment); to compile it you need to run the following from the `utils` directory:\n",
        "\n",
        "```bash\n",
        "python setup.py build_ext --inplace\n",
        "```\n",
        "\n",
        "**NOTE:** The fast implementation for pooling will only perform optimally if the pooling regions are non-overlapping and tile the input. If these conditions are not met then the fast pooling implementation will not be much faster than the naive implementation.\n",
        "\n",
        "You can compare the performance of the naive and fast versions of these layers by running the cell below.\n",
        "\n",
        "You should see pretty drastic speedups in the implementation of these layers.  On our machine, the forward pass speeds up by 17x and the backward pass speeds up by 840x.  Of course, these numbers will vary from machine to machine, as well as on your precise implementation of the naive layers."
      ]
    },
    {
      "cell_type": "code",
      "execution_count": null,
      "metadata": {
        "id": "o7Hm6ck1_AZs",
        "colab": {
          "base_uri": "https://localhost:8080/"
        },
        "outputId": "6161c602-13bc-4daf-922c-809408510f3f"
      },
      "outputs": [
        {
          "output_type": "stream",
          "name": "stdout",
          "text": [
            "Testing conv_forward_fast:\n",
            "Naive: 6.258457s\n",
            "Fast: 0.013593s\n",
            "Speedup: 460.410952x\n",
            "Difference:  1.9230015326721162e-11\n",
            "\n",
            "Testing conv_backward_fast:\n",
            "Naive: 8.389003s\n",
            "Fast: 0.014344s\n",
            "Speedup: 584.835267x\n",
            "dx difference:  1.0\n",
            "dw difference:  3.9668628825641267e-13\n",
            "db difference:  0.0\n"
          ]
        }
      ],
      "source": [
        "from utils.fast_layers import conv_forward_fast, conv_backward_fast\n",
        "from time import time\n",
        "\n",
        "x = np.random.randn(100, 3, 31, 31)\n",
        "w = np.random.randn(25, 3, 3, 3)\n",
        "b = np.random.randn(25,)\n",
        "dout = np.random.randn(100, 25, 16, 16)\n",
        "conv_param = {'stride': 2, 'pad': 1}\n",
        "\n",
        "t0 = time()\n",
        "out_naive, cache_naive = conv_forward_naive(x, w, b, conv_param)\n",
        "t1 = time()\n",
        "out_fast, cache_fast = conv_forward_fast(x, w, b, conv_param)\n",
        "t2 = time()\n",
        "\n",
        "print('Testing conv_forward_fast:')\n",
        "print('Naive: %fs' % (t1 - t0))\n",
        "print('Fast: %fs' % (t2 - t1))\n",
        "print('Speedup: %fx' % ((t1 - t0) / (t2 - t1)))\n",
        "print('Difference: ', rel_error(out_naive, out_fast))\n",
        "\n",
        "t0 = time()\n",
        "dx_naive, dw_naive, db_naive = conv_backward_naive(dout, cache_naive)\n",
        "t1 = time()\n",
        "dx_fast, dw_fast, db_fast = conv_backward_fast(dout, cache_fast)\n",
        "t2 = time()\n",
        "\n",
        "print('\\nTesting conv_backward_fast:')\n",
        "print('Naive: %fs' % (t1 - t0))\n",
        "print('Fast: %fs' % (t2 - t1))\n",
        "print('Speedup: %fx' % ((t1 - t0) / (t2 - t1)))\n",
        "print('dx difference: ', rel_error(dx_naive, dx_fast))\n",
        "print('dw difference: ', rel_error(dw_naive, dw_fast))\n",
        "print('db difference: ', rel_error(db_naive, db_fast))"
      ]
    },
    {
      "cell_type": "code",
      "execution_count": null,
      "metadata": {
        "id": "ptd1_VyE_AZs",
        "colab": {
          "base_uri": "https://localhost:8080/"
        },
        "outputId": "2c60c282-248c-4818-fe83-c7966c1e220d"
      },
      "outputs": [
        {
          "output_type": "stream",
          "name": "stdout",
          "text": [
            "Testing pool_forward_fast:\n",
            "Naive: 0.473000s\n",
            "fast: 0.005958s\n",
            "speedup: 79.391172x\n",
            "difference:  0.0\n",
            "\n",
            "Testing pool_backward_fast:\n",
            "Naive: 1.457615s\n",
            "speedup: 104.761627x\n",
            "dx difference:  0.0\n"
          ]
        }
      ],
      "source": [
        "from utils.fast_layers import max_pool_forward_fast, max_pool_backward_fast\n",
        "\n",
        "x = np.random.randn(100, 3, 32, 32)\n",
        "dout = np.random.randn(100, 3, 16, 16)\n",
        "pool_param = {'pool_height': 2, 'pool_width': 2, 'stride': 2}\n",
        "\n",
        "t0 = time()\n",
        "out_naive, cache_naive = max_pool_forward_naive(x, pool_param)\n",
        "t1 = time()\n",
        "out_fast, cache_fast = max_pool_forward_fast(x, pool_param)\n",
        "t2 = time()\n",
        "\n",
        "print('Testing pool_forward_fast:')\n",
        "print('Naive: %fs' % (t1 - t0))\n",
        "print('fast: %fs' % (t2 - t1))\n",
        "print('speedup: %fx' % ((t1 - t0) / (t2 - t1)))\n",
        "print('difference: ', rel_error(out_naive, out_fast))\n",
        "\n",
        "t0 = time()\n",
        "dx_naive = max_pool_backward_naive(dout, cache_naive)\n",
        "t1 = time()\n",
        "dx_fast = max_pool_backward_fast(dout, cache_fast)\n",
        "t2 = time()\n",
        "\n",
        "print('\\nTesting pool_backward_fast:')\n",
        "print('Naive: %fs' % (t1 - t0))\n",
        "print('speedup: %fx' % ((t1 - t0) / (t2 - t1)))\n",
        "print('dx difference: ', rel_error(dx_naive, dx_fast))"
      ]
    },
    {
      "cell_type": "markdown",
      "metadata": {
        "id": "BvC4Nivf_AZt"
      },
      "source": [
        "## Implementation of cascaded layers\n",
        "\n",
        "We've provided the following functions in `nndl/conv_layer_utils.py`:\n",
        "    - conv_relu_forward\n",
        "    - conv_relu_backward\n",
        "    - conv_relu_pool_forward\n",
        "    - conv_relu_pool_backward\n",
        "    \n",
        "These use the fast implementations of the conv net layers.  You can test them below:"
      ]
    },
    {
      "cell_type": "code",
      "execution_count": null,
      "metadata": {
        "id": "A5SC8NKT_AZt",
        "colab": {
          "base_uri": "https://localhost:8080/"
        },
        "outputId": "0c4a120d-a728-48ed-be39-76e65cadb35f"
      },
      "outputs": [
        {
          "output_type": "stream",
          "name": "stdout",
          "text": [
            "Testing conv_relu_pool\n",
            "dx error:  4.015877546815905e-09\n",
            "dw error:  2.1406243682477695e-09\n",
            "db error:  1.6689880768362573e-11\n"
          ]
        }
      ],
      "source": [
        "from nndl.conv_layer_utils import conv_relu_pool_forward, conv_relu_pool_backward\n",
        "\n",
        "x = np.random.randn(2, 3, 16, 16)\n",
        "w = np.random.randn(3, 3, 3, 3)\n",
        "b = np.random.randn(3,)\n",
        "dout = np.random.randn(2, 3, 8, 8)\n",
        "conv_param = {'stride': 1, 'pad': 1}\n",
        "pool_param = {'pool_height': 2, 'pool_width': 2, 'stride': 2}\n",
        "\n",
        "out, cache = conv_relu_pool_forward(x, w, b, conv_param, pool_param)\n",
        "dx, dw, db = conv_relu_pool_backward(dout, cache)\n",
        "\n",
        "dx_num = eval_numerical_gradient_array(lambda x: conv_relu_pool_forward(x, w, b, conv_param, pool_param)[0], x, dout)\n",
        "dw_num = eval_numerical_gradient_array(lambda w: conv_relu_pool_forward(x, w, b, conv_param, pool_param)[0], w, dout)\n",
        "db_num = eval_numerical_gradient_array(lambda b: conv_relu_pool_forward(x, w, b, conv_param, pool_param)[0], b, dout)\n",
        "\n",
        "print('Testing conv_relu_pool')\n",
        "print('dx error: ', rel_error(dx_num, dx))\n",
        "print('dw error: ', rel_error(dw_num, dw))\n",
        "print('db error: ', rel_error(db_num, db))"
      ]
    },
    {
      "cell_type": "code",
      "execution_count": null,
      "metadata": {
        "pycharm": {
          "is_executing": true
        },
        "id": "ZKpuPDD3_AZt",
        "colab": {
          "base_uri": "https://localhost:8080/"
        },
        "outputId": "9b88f24c-2297-4a0e-decf-96e94cc39811"
      },
      "outputs": [
        {
          "output_type": "stream",
          "name": "stdout",
          "text": [
            "Testing conv_relu:\n",
            "dx error:  0.03807106680931524\n",
            "dw error:  0.05732087651842292\n",
            "db error:  9.918434835075132e-11\n"
          ]
        }
      ],
      "source": [
        "from nndl.conv_layer_utils import conv_relu_forward, conv_relu_backward\n",
        "\n",
        "x = np.random.randn(2, 3, 8, 8)\n",
        "w = np.random.randn(3, 3, 3, 3)\n",
        "b = np.random.randn(3,)\n",
        "dout = np.random.randn(2, 3, 8, 8)\n",
        "conv_param = {'stride': 1, 'pad': 1}\n",
        "\n",
        "out, cache = conv_relu_forward(x, w, b, conv_param)\n",
        "dx, dw, db = conv_relu_backward(dout, cache)\n",
        "\n",
        "dx_num = eval_numerical_gradient_array(lambda x: conv_relu_forward(x, w, b, conv_param)[0], x, dout)\n",
        "dw_num = eval_numerical_gradient_array(lambda w: conv_relu_forward(x, w, b, conv_param)[0], w, dout)\n",
        "db_num = eval_numerical_gradient_array(lambda b: conv_relu_forward(x, w, b, conv_param)[0], b, dout)\n",
        "\n",
        "print('Testing conv_relu:')\n",
        "print('dx error: ', rel_error(dx_num, dx))\n",
        "print('dw error: ', rel_error(dw_num, dw))\n",
        "print('db error: ', rel_error(db_num, db))"
      ]
    },
    {
      "cell_type": "markdown",
      "metadata": {
        "id": "XJYWNzLN_AZu"
      },
      "source": [
        "## What next?\n",
        "\n",
        "We saw how helpful batch normalization was for training FC nets.  In the next notebook, we'll implement a batch normalization for convolutional neural networks, and then finish off by implementing a CNN to improve our validation accuracy on CIFAR-10."
      ]
    },
    {
      "cell_type": "markdown",
      "source": [
        "Conv_layers Code "
      ],
      "metadata": {
        "id": "uQ4ghjZmwTJv"
      }
    },
    {
      "cell_type": "code",
      "source": [
        "import numpy as np\n",
        "from nndl.layers import *\n",
        "import pdb\n",
        "\n",
        "\"\"\" \n",
        "This code was originally written for CS 231n at Stanford University\n",
        "(cs231n.stanford.edu).  It has been modified in various areas for use in the\n",
        "ECE 239AS class at UCLA.  This includes the descriptions of what code to\n",
        "implement as well as some slight potential changes in variable names to be\n",
        "consistent with class nomenclature.  We thank Justin Johnson & Serena Yeung for\n",
        "permission to use this code.  To see the original version, please visit\n",
        "cs231n.stanford.edu.  \n",
        "\"\"\"\n",
        "\n",
        "def conv_forward_naive(x, w, b, conv_param):\n",
        "  \"\"\"\n",
        "  A naive implementation of the forward pass for a convolutional layer.\n",
        "  The input consists of N data points, each with C channels, height H and width\n",
        "  W. We convolve each input with F different filters, where each filter spans\n",
        "  all C channels and has height HH and width HH.\n",
        "  Input:\n",
        "  - x: Input data of shape (N, C, H, W)\n",
        "  - w: Filter weights of shape (F, C, HH, WW)\n",
        "  - b: Biases, of shape (F,)\n",
        "  - conv_param: A dictionary with the following keys:\n",
        "    - 'stride': The number of pixels between adjacent receptive fields in the\n",
        "      horizontal and vertical directions.\n",
        "    - 'pad': The number of pixels that will be used to zero-pad the input.\n",
        "  Returns a tuple of:\n",
        "  - out: Output data, of shape (N, F, H', W') where H' and W' are given by\n",
        "    H' = 1 + (H + 2 * pad - HH) / stride\n",
        "    W' = 1 + (W + 2 * pad - WW) / stride\n",
        "  - cache: (x, w, b, conv_param)\n",
        "  \"\"\"\n",
        "  out = None\n",
        "  pad = conv_param['pad']\n",
        "  stride = conv_param['stride']\n",
        "\n",
        "  # ================================================================ #\n",
        "  # YOUR CODE HERE:\n",
        "  #   Implement the forward pass of a convolutional neural network.\n",
        "  #   Store the output as 'out'.\n",
        "  #   Hint: to pad the array, you can use the function np.pad.\n",
        "  # ================================================================ #\n",
        "    \n",
        "  x_padded = np.pad(x, ((0,0), (0,0), (pad, pad), (pad, pad)), 'constant')\n",
        "\n",
        "  N, _, H, W = x_padded.shape\n",
        "  F, _, HH, WW = w.shape\n",
        "  \n",
        "  H_out = int(1 + (H - HH) / stride)\n",
        "  W_out = int(1 + (W - WW) / stride)\n",
        "    \n",
        "  out = np.zeros((N, F, H_out, W_out))\n",
        "    \n",
        "  for pt_idx in range(N):\n",
        "      for filter_idx in range(F):\n",
        "            for x_idx in range(W_out):\n",
        "                for y_idx in range(H_out):\n",
        "                    x_start = x_idx * stride\n",
        "                    y_start = y_idx * stride\n",
        "                    patch = x_padded[pt_idx, :, y_start:y_start+HH, x_start:x_start+WW]\n",
        "                    convolved = np.sum(np.multiply(patch, w[filter_idx])) + b[filter_idx]\n",
        "                    out[pt_idx, filter_idx, y_idx, x_idx] = convolved\n",
        "\n",
        "  # ================================================================ #\n",
        "  # END YOUR CODE HERE\n",
        "  # ================================================================ #\n",
        "    \n",
        "  cache = (x, w, b, conv_param)\n",
        "  return out, cache\n",
        "\n",
        "\n",
        "def conv_backward_naive(dout, cache):\n",
        "  \"\"\"\n",
        "  A naive implementation of the backward pass for a convolutional layer.\n",
        "  Inputs:\n",
        "  - dout: Upstream derivatives.\n",
        "  - cache: A tuple of (x, w, b, conv_param) as in conv_forward_naive\n",
        "  Returns a tuple of:\n",
        "  - dx: Gradient with respect to x\n",
        "  - dw: Gradient with respect to w\n",
        "  - db: Gradient with respect to b\n",
        "  \"\"\"\n",
        "  dx, dw, db = None, None, None\n",
        "\n",
        "  N, F, out_height, out_width = dout.shape\n",
        "  x, w, b, conv_param = cache\n",
        "  \n",
        "  stride, pad = [conv_param['stride'], conv_param['pad']]\n",
        "  xpad = np.pad(x, ((0,0), (0,0), (pad,pad), (pad,pad)), mode='constant')\n",
        "  num_filts, _, f_height, f_width = w.shape\n",
        "\n",
        "  # ================================================================ #\n",
        "  # YOUR CODE HERE:\n",
        "  #   Implement the backward pass of a convolutional neural network.\n",
        "  #   Calculate the gradients: dx, dw, and db.\n",
        "  # ================================================================ #\n",
        "\n",
        "  dx = np.zeros(xpad.shape)\n",
        "  dw = np.zeros(w.shape)\n",
        "  db = np.zeros(b.shape)\n",
        "    \n",
        "  for pt_idx in range(N):\n",
        "      for filter_idx in range(F):\n",
        "            db[filter_idx] += np.sum(dout[pt_idx, filter_idx])\n",
        "            for x_idx in range(out_width):\n",
        "                for y_idx in range(out_height):\n",
        "                    x_start = x_idx * stride\n",
        "                    y_start = y_idx * stride\n",
        "                    patch = xpad[pt_idx, :, y_start:y_start+f_height, x_start:x_start+f_width]\n",
        "                    \n",
        "                    dx[filter_idx, :, y_start:y_start+f_height, x_start:x_start+f_width] += w[filter_idx] + dout[pt_idx, filter_idx, y_idx, x_idx]\n",
        "                    dw[filter_idx] += patch * dout[pt_idx, filter_idx, y_idx, x_idx]\n",
        "                                     \n",
        "  dx = dx[:, :, pad:pad+x.shape[2], pad:pad+x.shape[3]]\n",
        "                                     \n",
        "\n",
        "  # ================================================================ #\n",
        "  # END YOUR CODE HERE\n",
        "  # ================================================================ #\n",
        "\n",
        "  return dx, dw, db\n",
        "\n",
        "\n",
        "def max_pool_forward_naive(x, pool_param):\n",
        "  \"\"\"\n",
        "  A naive implementation of the forward pass for a max pooling layer.\n",
        "  Inputs:\n",
        "  - x: Input data, of shape (N, C, H, W)\n",
        "  - pool_param: dictionary with the following keys:\n",
        "    - 'pool_height': The height of each pooling region\n",
        "    - 'pool_width': The width of each pooling region\n",
        "    - 'stride': The distance between adjacent pooling regions\n",
        "  Returns a tuple of:\n",
        "  - out: Output data\n",
        "  - cache: (x, pool_param)\n",
        "  \"\"\"\n",
        "  out = None\n",
        "  \n",
        "  # ================================================================ #\n",
        "  # YOUR CODE HERE:\n",
        "  #   Implement the max pooling forward pass.\n",
        "  # ================================================================ #\n",
        "\n",
        "  N, C, H, W = x.shape\n",
        "  pool_height, pool_width, stride = [pool_param['pool_height'], pool_param['pool_width'], pool_param['stride']]\n",
        "  H_out = int(1 + (H-pool_param['pool_height']) / pool_param['stride'])\n",
        "  W_out = int(1 + (W-pool_param['pool_width']) / pool_param['stride'])\n",
        "  \n",
        "  out = np.zeros((N, C, H_out, W_out))\n",
        "    \n",
        "  for pt_idx in range(N):\n",
        "    for channel_idx in range(C):\n",
        "        for y_idx in range(H_out):\n",
        "            for x_idx in range(W_out):\n",
        "                x_start = x_idx * stride\n",
        "                y_start = y_idx * stride\n",
        "                out[pt_idx, channel_idx, y_idx, x_idx] = np.max(x[pt_idx, channel_idx, y_start:y_start+pool_height, x_start:x_start+pool_width])\n",
        "\n",
        "  # ================================================================ #\n",
        "  # END YOUR CODE HERE\n",
        "  # ================================================================ # \n",
        "  cache = (x, pool_param)\n",
        "  return out, cache\n",
        "\n",
        "def max_pool_backward_naive(dout, cache):\n",
        "  \"\"\"\n",
        "  A naive implementation of the backward pass for a max pooling layer.\n",
        "  Inputs:\n",
        "  - dout: Upstream derivatives\n",
        "  - cache: A tuple of (x, pool_param) as in the forward pass.\n",
        "  Returns:\n",
        "  - dx: Gradient with respect to x\n",
        "  \"\"\"\n",
        "  dx = None\n",
        "  x, pool_param = cache\n",
        "  pool_height, pool_width, stride = pool_param['pool_height'], pool_param['pool_width'], pool_param['stride']\n",
        "\n",
        "  # ================================================================ #\n",
        "  # YOUR CODE HERE:\n",
        "  #   Implement the max pooling backward pass.\n",
        "  # ================================================================ #\n",
        "\n",
        "  N, C, H, W = dout.shape\n",
        "  pool_height, pool_width, stride = [pool_param['pool_height'], pool_param['pool_width'], pool_param['stride']]\n",
        "  dx = np.zeros(x.shape)\n",
        "  \n",
        "  for pt_idx in range(N):\n",
        "    for channel_idx in range(C):\n",
        "        for y_idx in range(H):\n",
        "            for x_idx in range(W):\n",
        "                x_start = x_idx * stride\n",
        "                y_start = y_idx * stride\n",
        "                patch = x[pt_idx, channel_idx, y_start:y_start+pool_height, x_start:x_start+pool_width]\n",
        "                dx[pt_idx, channel_idx, y_start:y_start+pool_height, x_start:x_start+pool_width] += (patch == np.max(patch)) * dout[pt_idx, channel_idx, y_idx, x_idx]\n",
        "\n",
        "  # ================================================================ #\n",
        "  # END YOUR CODE HERE\n",
        "  # ================================================================ # \n",
        "\n",
        "  return dx\n",
        "\n",
        "def spatial_batchnorm_forward(x, gamma, beta, bn_param):\n",
        "  \"\"\"\n",
        "  Computes the forward pass for spatial batch normalization.\n",
        "  \n",
        "  Inputs:\n",
        "  - x: Input data of shape (N, C, H, W)\n",
        "  - gamma: Scale parameter, of shape (C,)\n",
        "  - beta: Shift parameter, of shape (C,)\n",
        "  - bn_param: Dictionary with the following keys:\n",
        "    - mode: 'train' or 'test'; required\n",
        "    - eps: Constant for numeric stability\n",
        "    - momentum: Constant for running mean / variance. momentum=0 means that\n",
        "      old information is discarded completely at every time step, while\n",
        "      momentum=1 means that new information is never incorporated. The\n",
        "      default of momentum=0.9 should work well in most situations.\n",
        "    - running_mean: Array of shape (D,) giving running mean of features\n",
        "    - running_var Array of shape (D,) giving running variance of features\n",
        "    \n",
        "  Returns a tuple of:\n",
        "  - out: Output data, of shape (N, C, H, W)\n",
        "  - cache: Values needed for the backward pass\n",
        "  \"\"\"\n",
        "  out, cache = None, None\n",
        "\n",
        "  # ================================================================ #\n",
        "  # YOUR CODE HERE:\n",
        "  #   Implement the spatial batchnorm forward pass.\n",
        "  #\n",
        "  #   You may find it useful to use the batchnorm forward pass you \n",
        "  #   implemented in HW #4.\n",
        "  # ================================================================ #\n",
        "  \n",
        "  N, C, H, W = x.shape\n",
        "  x = x.transpose(0, 2, 3, 1).reshape((-1, C))\n",
        "  out, cache = batchnorm_forward(x, gamma, beta, bn_param) \n",
        "  out = out.reshape((N, H, W, C)).transpose(0, 3, 1, 2)\n",
        "\n",
        "  # ================================================================ #\n",
        "  # END YOUR CODE HERE\n",
        "  # ================================================================ # \n",
        "\n",
        "  return out, cache\n",
        "\n",
        "\n",
        "def spatial_batchnorm_backward(dout, cache):\n",
        "  \"\"\"\n",
        "  Computes the backward pass for spatial batch normalization.\n",
        "  \n",
        "  Inputs:\n",
        "  - dout: Upstream derivatives, of shape (N, C, H, W)\n",
        "  - cache: Values from the forward pass\n",
        "  \n",
        "  Returns a tuple of:\n",
        "  - dx: Gradient with respect to inputs, of shape (N, C, H, W)\n",
        "  - dgamma: Gradient with respect to scale parameter, of shape (C,)\n",
        "  - dbeta: Gradient with respect to shift parameter, of shape (C,)\n",
        "  \"\"\"\n",
        "  dx, dgamma, dbeta = None, None, None\n",
        "\n",
        "  # ================================================================ #\n",
        "  # YOUR CODE HERE:\n",
        "  #   Implement the spatial batchnorm backward pass.\n",
        "  #\n",
        "  #   You may find it useful to use the batchnorm forward pass you \n",
        "  #   implemented in HW #4.\n",
        "  # ================================================================ #\n",
        "  \n",
        "  N, C, H, W = dout.shape\n",
        "  dout = dout.transpose(0, 2, 3, 1).reshape((-1, C))\n",
        "  dx, dgamma, dbeta = batchnorm_backward(dout, cache)\n",
        "  dx = dx.reshape((N, H, W, C)).transpose(0, 3, 1, 2)\n",
        "\n",
        "  # ================================================================ #\n",
        "  # END YOUR CODE HERE\n",
        "  # ================================================================ # \n",
        "\n",
        "  return dx, dgamma, dbeta"
      ],
      "metadata": {
        "id": "JQy-Tm7ywW4a"
      },
      "execution_count": null,
      "outputs": []
    }
  ],
  "metadata": {
    "kernelspec": {
      "display_name": "Python 3 (ipykernel)",
      "language": "python",
      "name": "python3"
    },
    "language_info": {
      "codemirror_mode": {
        "name": "ipython",
        "version": 3
      },
      "file_extension": ".py",
      "mimetype": "text/x-python",
      "name": "python",
      "nbconvert_exporter": "python",
      "pygments_lexer": "ipython3",
      "version": "3.9.9"
    },
    "pycharm": {
      "stem_cell": {
        "cell_type": "raw",
        "metadata": {
          "collapsed": false
        },
        "source": []
      }
    },
    "colab": {
      "name": "CNN-Layers.ipynb",
      "provenance": [],
      "collapsed_sections": []
    }
  },
  "nbformat": 4,
  "nbformat_minor": 0
}